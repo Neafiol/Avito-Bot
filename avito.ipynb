{
 "cells": [
  {
   "cell_type": "code",
   "execution_count": 1,
   "metadata": {},
   "outputs": [],
   "source": [
    "import requests\n",
    "from bs4 import BeautifulSoup\n",
    "import re\n",
    "import json\n",
    "from tqdm import tqdm_notebook as tqdm\n",
    "from selenium import webdriver\n",
    "from selenium.webdriver.firefox.options import Options\n",
    "from selenium.webdriver.support.ui import WebDriverWait\n",
    "from selenium.webdriver.support import expected_conditions as EC\n",
    "from selenium.webdriver.common.by import By\n",
    "from selenium.webdriver.firefox.firefox_profile import FirefoxProfile\n",
    "import selenium\n",
    "import pickle\n",
    "import time\n",
    "from datetime import datetime\n",
    "import unicodedata\n",
    "import random\n",
    "import urllib.parse\n",
    "from selenium.webdriver.common.keys import Keys"
   ]
  },
  {
   "cell_type": "code",
   "execution_count": 2,
   "metadata": {
    "pycharm": {
     "is_executing": true
    }
   },
   "outputs": [],
   "source": [
    "r = requests.get(\"https://www.avito.ru/sankt-peterburg/telefony/iphone_8_64_gold_1885993597?slocation=107621\")\n",
    "soup = BeautifulSoup(r.text,'html5lib')"
   ]
  },
  {
   "cell_type": "code",
   "execution_count": 7,
   "metadata": {},
   "outputs": [
    {
     "data": {
      "text/plain": [
       "71901"
      ]
     },
     "execution_count": 7,
     "metadata": {},
     "output_type": "execute_result"
    }
   ],
   "source": [
    "r.text.find(\"Dana Mirinova\")"
   ]
  },
  {
   "cell_type": "code",
   "execution_count": 21,
   "metadata": {
    "pycharm": {
     "is_executing": true
    }
   },
   "outputs": [
    {
     "data": {
      "text/plain": [
       "'1885993597'"
      ]
     },
     "execution_count": 21,
     "metadata": {},
     "output_type": "execute_result"
    }
   ],
   "source": [
    "soup.find(\"div\",{\"class\":\"seller-info-name js-seller-info-name\"}).a[\"href\"].split(\"=\")[-1]"
   ]
  },
  {
   "cell_type": "code",
   "execution_count": 16,
   "metadata": {},
   "outputs": [
    {
     "data": {
      "text/plain": [
       "'\\n Санкт-Петербург, Пискарёвский пр-т, 1\\n '"
      ]
     },
     "execution_count": 16,
     "metadata": {},
     "output_type": "execute_result"
    }
   ],
   "source": [
    "soup.find(\"span\",{\"class\":\"item-address__string\"}).text"
   ]
  },
  {
   "cell_type": "code",
   "execution_count": 23,
   "metadata": {},
   "outputs": [
    {
     "data": {
      "text/plain": [
       "'Площадь Ленина'"
      ]
     },
     "execution_count": 23,
     "metadata": {},
     "output_type": "execute_result"
    }
   ],
   "source": [
    "soup.find(\"span\",{\"class\":\"item-address-georeferences-item__content\"}).text"
   ]
  },
  {
   "cell_type": "code",
   "execution_count": 19,
   "metadata": {},
   "outputs": [
    {
     "data": {
      "text/plain": [
       "'//96.img.avito.st/640x480/8515422596.jpg'"
      ]
     },
     "execution_count": 19,
     "metadata": {},
     "output_type": "execute_result"
    }
   ],
   "source": [
    "soup.find(\"img\")[\"src\"]"
   ]
  },
  {
   "cell_type": "code",
   "execution_count": null,
   "metadata": {
    "pycharm": {
     "is_executing": true
    }
   },
   "outputs": [],
   "source": [
    "items=[]\n",
    "for i in tqdm(range(1,44+1)):\n",
    "    r = requests.get(\"https://www.avito.ru/permskiy_kray/avtomobili\",\n",
    "                 params={\n",
    "                     \"s\":104,\n",
    "                     \"q\":\"%D0%B0%D0%B2%D1%82%D0%BE%D0%BC%D0%BE%D0%B1%D0%B8%D0%BB%D0%B8+%D1%81+%D0%BF%D1%80%D0%BE%D0%B1%D0%B5%D0%B3%D0%BE%D0%BC\",\n",
    "                     \"p\":i})\n",
    "    soup = BeautifulSoup(r.text,'html5lib')\n",
    "    urls = soup.find_all(\"a\",{\"itemprop\":\"url\"})\n",
    "    cards = soup.find_all(\"div\",{\"class\":\"item_table-wrapper\"})\n",
    "    \n",
    "    for card in cards:\n",
    "        item={}\n",
    "        item[\"cost\"] = re.sub(r\"[^\\d]+\",\"\",cards[0].find(\"div\",{\"class\":\"snippet-price-row\"}).text)\n",
    "        item[\"name\"] = cards[0].h3.text\n",
    "        item[\"adress\"] = card.find(\"span\",{\"class\":\"item-address-georeferences-item__content\"}).text\n",
    "        item[\"url\"] = \"https://www.avito.ru\" + card.find(\"a\")[\"href\"]\n",
    "        item[\"id\"] = item[\"url\"].split(\"_\")[-1]\n",
    "        items.append(item)\n",
    "        \n",
    "    assert len(cards) > 0 ,\"Captcha error\"\n",
    "    time.sleep(random.randint(1,6))\n"
   ]
  },
  {
   "cell_type": "code",
   "execution_count": null,
   "metadata": {
    "pycharm": {
     "is_executing": true
    }
   },
   "outputs": [],
   "source": [
    "items[0]"
   ]
  },
  {
   "cell_type": "code",
   "execution_count": null,
   "metadata": {
    "pycharm": {
     "is_executing": true
    }
   },
   "outputs": [],
   "source": []
  }
 ],
 "metadata": {
  "kernelspec": {
   "display_name": "Python 3",
   "language": "python",
   "name": "python3"
  },
  "language_info": {
   "codemirror_mode": {
    "name": "ipython",
    "version": 3
   },
   "file_extension": ".py",
   "mimetype": "text/x-python",
   "name": "python",
   "nbconvert_exporter": "python",
   "pygments_lexer": "ipython3",
   "version": "3.7.4"
  }
 },
 "nbformat": 4,
 "nbformat_minor": 2
}
