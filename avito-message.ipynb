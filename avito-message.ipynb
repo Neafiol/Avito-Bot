{
 "cells": [
  {
   "cell_type": "code",
   "execution_count": 2,
   "metadata": {},
   "outputs": [],
   "source": [
    "import requests\n",
    "from bs4 import BeautifulSoup\n",
    "import re\n",
    "import json\n",
    "from tqdm import tqdm_notebook as tqdm\n",
    "from selenium import webdriver\n",
    "from selenium.webdriver.firefox.options import Options\n",
    "from selenium.webdriver.support.ui import WebDriverWait\n",
    "from selenium.webdriver.support import expected_conditions as EC\n",
    "from selenium.webdriver.common.by import By\n",
    "from selenium.webdriver.common.keys import Keys\n",
    "\n",
    "from selenium.webdriver.firefox.firefox_profile import FirefoxProfile\n",
    "import selenium\n",
    "import pickle\n",
    "import time\n",
    "from datetime import datetime\n",
    "import unicodedata\n",
    "import random\n",
    "import urllib.parse"
   ]
  },
  {
   "cell_type": "code",
   "execution_count": 26,
   "metadata": {},
   "outputs": [],
   "source": [
    "driver = webdriver.Firefox()"
   ]
  },
  {
   "cell_type": "code",
   "execution_count": 28,
   "metadata": {},
   "outputs": [],
   "source": [
    "driver.get(\"https://www.avito.ru/sankt-peterburg/telefony/telefon_iphone_1917042515\")\n",
    "with open(\"cookies.pickle\", \"rb\") as f:\n",
    "    cookies = pickle.load(f)\n",
    "    driver.delete_all_cookies()\n",
    "    for c in cookies:\n",
    "        driver.add_cookie(c)\n",
    "    driver.refresh()"
   ]
  },
  {
   "cell_type": "code",
   "execution_count": 38,
   "metadata": {},
   "outputs": [
    {
     "data": {
      "text/plain": [
       "'button-button-2Fo5k button-size-s-3-rn6 button-primary-1RhOG'"
      ]
     },
     "execution_count": 38,
     "metadata": {},
     "output_type": "execute_result"
    }
   ],
   "source": []
  },
  {
   "cell_type": "code",
   "execution_count": 4,
   "metadata": {},
   "outputs": [],
   "source": [
    "session = requests.Session()\n",
    "with open(\"cookies.pickle\", \"rb\") as f:\n",
    "    cookies = pickle.load(f)\n",
    "    for c in cookies:\n",
    "        if \"expiry\" in c: del c[\"expiry\"] \n",
    "        if \"httpOnly\" in c: del c[\"httpOnly\"]\n",
    "        cookie_obj = requests.cookies.create_cookie(**c)\n",
    "        session.cookies.set_cookie(cookie_obj)"
   ]
  },
  {
   "cell_type": "code",
   "execution_count": null,
   "metadata": {},
   "outputs": [],
   "source": [
    "# User-Agent: Mozilla/5.0 (X11; Linux x86_64) AppleWebKit/537.36 (KHTML, like Gecko) Chrome/80.0.3987.122 Safari/537.36\n",
    "# Accept-Encoding: gzip, deflate\n",
    "# Accept-Language: ru-RU,ru;q=0.9,en-US;q=0.8,en;q=0.7,de;q=0.6"
   ]
  },
  {
   "cell_type": "code",
   "execution_count": 5,
   "metadata": {},
   "outputs": [],
   "source": [
    "# dict(session.cookies)"
   ]
  },
  {
   "cell_type": "code",
   "execution_count": 12,
   "metadata": {},
   "outputs": [],
   "source": [
    "# session.cookies=cookies\n",
    "r = session.get('https://www.avito.ru/sankt-peterburg/audio_i_video/passivnaya_akustika_leem_korea_1878925091')"
   ]
  },
  {
   "cell_type": "code",
   "execution_count": 17,
   "metadata": {},
   "outputs": [],
   "source": [
    "r = session.get('https://www.avito.ru/sankt-peterburg/telefony/telefon_iphone_1917042515')"
   ]
  },
  {
   "cell_type": "code",
   "execution_count": 18,
   "metadata": {},
   "outputs": [
    {
     "data": {
      "text/plain": [
       "19558"
      ]
     },
     "execution_count": 18,
     "metadata": {},
     "output_type": "execute_result"
    }
   ],
   "source": [
    "r.text.find(\"Петр Вольнов\")"
   ]
  },
  {
   "cell_type": "code",
   "execution_count": 23,
   "metadata": {},
   "outputs": [],
   "source": [
    "r = session.post(\"https://www.avito.ru/k8s/events/put\",\n",
    "                 data={\"version\":8,\n",
    "                       \"src_id\":96,\n",
    "                       \"iid\":1917042515,\n",
    "                       \"cid\":84,\n",
    "                       \"uid\":127666789,\n",
    "                       \"wsrc\":\"item\"})"
   ]
  },
  {
   "cell_type": "code",
   "execution_count": 24,
   "metadata": {},
   "outputs": [
    {
     "data": {
      "text/plain": [
       "{'error': {'code': 400,\n",
       "  'message': \"invalid character 'v' looking for beginning of value\"}}"
      ]
     },
     "execution_count": 24,
     "metadata": {},
     "output_type": "execute_result"
    }
   ],
   "source": [
    "r.json()"
   ]
  },
  {
   "cell_type": "code",
   "execution_count": null,
   "metadata": {},
   "outputs": [],
   "source": [
    "r = session.post(\"https://www.avito.ru/k8s/events/put\")\n",
    "r = session.post(\"https://www.avito.ru/fallback\",\n",
    "                 data={\"jsonrpc\":\"2.0\",\n",
    "                       \"id\":1583940305091,\n",
    "                       \"method\":\"avito.chatCreateByItemId.v1\",\n",
    "                       \"params\":{\"itemId\":876124270}})\n",
    "\n",
    "r = session.post(\"https://www.avito.ru/k8s/fallback?app_name=mini&app_version=7.35.3\",\n",
    "                data={\"jsonrpc\":\"2.0\",\"id\":145,\"method\":\"getSocketMessages\",\"params\":{\"seq\":\"63\"}})\n",
    "\n",
    "/fallback"
   ]
  },
  {
   "cell_type": "code",
   "execution_count": null,
   "metadata": {},
   "outputs": [],
   "source": []
  },
  {
   "cell_type": "code",
   "execution_count": null,
   "metadata": {},
   "outputs": [],
   "source": [
    "cookie_obj = requests.cookies.create_cookie(domain='www.domain.com',name='COOKIE_NAME',value='the cookie works')\n",
    "s.cookies.set_cookie(cookie_obj)"
   ]
  },
  {
   "cell_type": "code",
   "execution_count": 51,
   "metadata": {},
   "outputs": [],
   "source": [
    "\n",
    "def send_mail(url):\n",
    "    driver.get(url)\n",
    "    page  = driver.page_source \n",
    "    soup = BeautifulSoup(page, 'html5lib')\n",
    "    \n",
    "    clas = soup.find(\"button\",{\"data-marker\":\"messenger-button/button\"})[\"class\"]\n",
    "    clas=\" \".join(clas)\n",
    "    \n",
    "    script = f'document.getElementsByClassName(\"{clas}\")[0].click()'\n",
    "    driver.execute_script(script)\n",
    "    time.sleep(3)\n",
    "    driver.find_element_by_tag_name(\"textarea\").send_keys(\"Добрый вечер\",Keys.ENTER)\n",
    "    "
   ]
  },
  {
   "cell_type": "code",
   "execution_count": null,
   "metadata": {},
   "outputs": [],
   "source": []
  }
 ],
 "metadata": {
  "kernelspec": {
   "display_name": "Python 3",
   "language": "python",
   "name": "python3"
  },
  "language_info": {
   "codemirror_mode": {
    "name": "ipython",
    "version": 3
   },
   "file_extension": ".py",
   "mimetype": "text/x-python",
   "name": "python",
   "nbconvert_exporter": "python",
   "pygments_lexer": "ipython3",
   "version": "3.7.4"
  },
  "pycharm": {
   "stem_cell": {
    "cell_type": "raw",
    "source": [],
    "metadata": {
     "collapsed": false
    }
   }
  }
 },
 "nbformat": 4,
 "nbformat_minor": 2
}