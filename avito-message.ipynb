{
 "cells": [
  {
   "cell_type": "code",
   "execution_count": 32,
   "metadata": {},
   "outputs": [],
   "source": [
    "import requests\n",
    "from bs4 import BeautifulSoup\n",
    "import re\n",
    "import json\n",
    "from tqdm import tqdm_notebook as tqdm\n",
    "from selenium import webdriver\n",
    "from selenium.webdriver.firefox.options import Options\n",
    "from selenium.webdriver.support.ui import WebDriverWait\n",
    "from selenium.webdriver.support import expected_conditions as EC\n",
    "from selenium.webdriver.common.by import By\n",
    "from selenium.webdriver.common.keys import Keys\n",
    "\n",
    "from selenium.webdriver.firefox.firefox_profile import FirefoxProfile\n",
    "import selenium\n",
    "import pickle\n",
    "import time\n",
    "from datetime import datetime\n",
    "import unicodedata\n",
    "import random\n",
    "import urllib.parse"
   ]
  },
  {
   "cell_type": "code",
   "execution_count": 2,
   "metadata": {},
   "outputs": [],
   "source": [
    "options =  Options()\n",
    "    # options.set_headless(True)\n",
    "driver = webdriver.Firefox(options=options)\n",
    "ips=[]"
   ]
  },
  {
   "cell_type": "code",
   "execution_count": 7,
   "metadata": {},
   "outputs": [],
   "source": [
    "driver.get(\"https://www.avito.ru/sankt-peterburg/audio_i_video/passivnaya_akustika_leem_korea_1878925091\")"
   ]
  },
  {
   "cell_type": "code",
   "execution_count": 51,
   "metadata": {},
   "outputs": [],
   "source": [
    "\n",
    "def send_mail(url):\n",
    "    driver.get(url)\n",
    "    page  = driver.page_source \n",
    "    soup = BeautifulSoup(page, 'html5lib')\n",
    "    \n",
    "    clas = soup.find(\"button\",{\"data-marker\":\"messenger-button/button\"})[\"class\"]\n",
    "    clas=\" \".join(clas)\n",
    "    \n",
    "    script = f'document.getElementsByClassName(\"{clas}\")[0].click()'\n",
    "    driver.execute_script(script)\n",
    "    time.sleep(3)\n",
    "    driver.find_element_by_tag_name(\"textarea\").send_keys(\"Добрый вечер\",Keys.ENTER)\n",
    "    "
   ]
  },
  {
   "cell_type": "code",
   "execution_count": null,
   "metadata": {},
   "outputs": [],
   "source": []
  }
 ],
 "metadata": {
  "kernelspec": {
   "display_name": "Python 3",
   "language": "python",
   "name": "python3"
  },
  "language_info": {
   "codemirror_mode": {
    "name": "ipython",
    "version": 3
   },
   "file_extension": ".py",
   "mimetype": "text/x-python",
   "name": "python",
   "nbconvert_exporter": "python",
   "pygments_lexer": "ipython3",
   "version": "3.7.4"
  }
 },
 "nbformat": 4,
 "nbformat_minor": 2
}
